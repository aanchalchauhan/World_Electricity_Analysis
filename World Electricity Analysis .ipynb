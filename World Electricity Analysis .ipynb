{
 "cells": [
  {
   "cell_type": "code",
   "execution_count": 1,
   "metadata": {},
   "outputs": [],
   "source": [
    "import pandas as pd"
   ]
  },
  {
   "cell_type": "code",
   "execution_count": 2,
   "metadata": {},
   "outputs": [],
   "source": [
    "data=pd.read_json('ATE Rural.json')\n",
    "data2=data.drop(0)\n",
    "data2.columns=data2.iloc[0]\n",
    "data2=data2.drop(1)\n",
    "data2.reset_index().drop([\"index\"], axis=1)\n",
    "data2.to_csv('AccessTE-Rural.csv', index=False)"
   ]
  },
  {
   "cell_type": "code",
   "execution_count": 3,
   "metadata": {},
   "outputs": [],
   "source": [
    "data=pd.read_json('ATE Total.json')\n",
    "data2=data.drop(0)\n",
    "data2.columns=data2.iloc[0]\n",
    "data2=data2.drop(1)\n",
    "data2.reset_index().drop([\"index\"], axis=1)\n",
    "data2.to_csv('AccessTE-Total.csv', index=False)"
   ]
  },
  {
   "cell_type": "code",
   "execution_count": 4,
   "metadata": {},
   "outputs": [],
   "source": [
    "data=pd.read_json('ATE Urban.json')\n",
    "data2=data.drop(0)\n",
    "data2.columns=data2.iloc[0]\n",
    "data2=data2.drop(1)\n",
    "data2.reset_index().drop([\"index\"], axis=1)\n",
    "data2.to_csv('AccessTE-Urban.csv', index=False)"
   ]
  },
  {
   "cell_type": "code",
   "execution_count": 5,
   "metadata": {},
   "outputs": [],
   "source": [
    "data=pd.read_json('Nuclear Sources Production.json')\n",
    "data2=data.drop(0)\n",
    "data2.columns=data2.iloc[0]\n",
    "data2=data2.drop(1)\n",
    "data2.reset_index().drop([\"index\"], axis=1)\n",
    "data2.to_csv('Nuclear sources production.csv', index=False)"
   ]
  },
  {
   "cell_type": "code",
   "execution_count": 6,
   "metadata": {},
   "outputs": [],
   "source": [
    "data=pd.read_json('Oil Sources Production.json')\n",
    "data2=data.drop(0)\n",
    "data2.columns=data2.iloc[0]\n",
    "data2=data2.drop(1)\n",
    "data2.reset_index().drop([\"index\"], axis=1)\n",
    "data2.to_csv('Oil sources production.csv', index=False)"
   ]
  },
  {
   "cell_type": "code",
   "execution_count": 7,
   "metadata": {},
   "outputs": [],
   "source": [
    "data=pd.read_json('Renewable Sources Production.json')\n",
    "data2=data.drop(0)\n",
    "data2.columns=data2.iloc[0]\n",
    "data2=data2.drop(1)\n",
    "data2.reset_index().drop([\"index\"], axis=1)\n",
    "data2.to_csv('Renewable Sources Production.csv', index=False)"
   ]
  },
  {
   "cell_type": "code",
   "execution_count": 8,
   "metadata": {},
   "outputs": [],
   "source": [
    "data=pd.read_json('Power Transmission Lossess.json')\n",
    "data2=data.drop(0)\n",
    "data2.columns=data2.iloc[0]\n",
    "data2=data2.drop(1)\n",
    "data2.reset_index().drop([\"index\"], axis=1)\n",
    "data2.to_csv('Power Transmission Losses.csv', index=False)"
   ]
  },
  {
   "cell_type": "markdown",
   "metadata": {},
   "source": [
    "# Assigning Variables to csv files"
   ]
  },
  {
   "cell_type": "code",
   "execution_count": 9,
   "metadata": {},
   "outputs": [],
   "source": [
    "rural = pd.read_csv(\"AccessTE-Rural.csv\")\n",
    "urban = pd.read_csv(\"AccessTE-Urban.csv\")\n",
    "total = pd.read_csv(\"AccessTE-Total.csv\")\n",
    "nuclear = pd.read_csv(\"Nuclear sources production.csv\")\n",
    "oil = pd.read_csv(\"Oil sources production.csv\")\n",
    "renewable = pd.read_csv(\"Renewable sources production.csv\")\n",
    "losses = pd.read_csv(\"Power Transmission Losses.csv\")"
   ]
  },
  {
   "cell_type": "markdown",
   "metadata": {},
   "source": [
    "# Reading head of variables"
   ]
  },
  {
   "cell_type": "code",
   "execution_count": 10,
   "metadata": {},
   "outputs": [
    {
     "data": {
      "text/html": [
       "<div>\n",
       "<style scoped>\n",
       "    .dataframe tbody tr th:only-of-type {\n",
       "        vertical-align: middle;\n",
       "    }\n",
       "\n",
       "    .dataframe tbody tr th {\n",
       "        vertical-align: top;\n",
       "    }\n",
       "\n",
       "    .dataframe thead th {\n",
       "        text-align: right;\n",
       "    }\n",
       "</style>\n",
       "<table border=\"1\" class=\"dataframe\">\n",
       "  <thead>\n",
       "    <tr style=\"text-align: right;\">\n",
       "      <th></th>\n",
       "      <th>Country Name</th>\n",
       "      <th>Country Code</th>\n",
       "      <th>Indicator Name</th>\n",
       "      <th>Indicator Code</th>\n",
       "      <th>1960.0</th>\n",
       "      <th>1961.0</th>\n",
       "      <th>1962.0</th>\n",
       "      <th>1963.0</th>\n",
       "      <th>1964.0</th>\n",
       "      <th>1965.0</th>\n",
       "      <th>...</th>\n",
       "      <th>2013</th>\n",
       "      <th>2014</th>\n",
       "      <th>2015</th>\n",
       "      <th>2016</th>\n",
       "      <th>2017</th>\n",
       "      <th>2018</th>\n",
       "      <th>2019</th>\n",
       "      <th>2020</th>\n",
       "      <th>2021.0</th>\n",
       "      <th>Unnamed: 66</th>\n",
       "    </tr>\n",
       "  </thead>\n",
       "  <tbody>\n",
       "    <tr>\n",
       "      <th>0</th>\n",
       "      <td>Aruba</td>\n",
       "      <td>ABW</td>\n",
       "      <td>Access to electricity, rural (% of rural popul...</td>\n",
       "      <td>EG.ELC.ACCS.RU.ZS</td>\n",
       "      <td>NaN</td>\n",
       "      <td>NaN</td>\n",
       "      <td>NaN</td>\n",
       "      <td>NaN</td>\n",
       "      <td>NaN</td>\n",
       "      <td>NaN</td>\n",
       "      <td>...</td>\n",
       "      <td>100.000000</td>\n",
       "      <td>100.000000</td>\n",
       "      <td>100.000000</td>\n",
       "      <td>100.000000</td>\n",
       "      <td>100.000000</td>\n",
       "      <td>100.000000</td>\n",
       "      <td>100.00000</td>\n",
       "      <td>100.000000</td>\n",
       "      <td>NaN</td>\n",
       "      <td>NaN</td>\n",
       "    </tr>\n",
       "    <tr>\n",
       "      <th>1</th>\n",
       "      <td>Africa Eastern and Southern</td>\n",
       "      <td>AFE</td>\n",
       "      <td>Access to electricity, rural (% of rural popul...</td>\n",
       "      <td>EG.ELC.ACCS.RU.ZS</td>\n",
       "      <td>NaN</td>\n",
       "      <td>NaN</td>\n",
       "      <td>NaN</td>\n",
       "      <td>NaN</td>\n",
       "      <td>NaN</td>\n",
       "      <td>NaN</td>\n",
       "      <td>...</td>\n",
       "      <td>18.663502</td>\n",
       "      <td>17.633986</td>\n",
       "      <td>16.464681</td>\n",
       "      <td>24.531436</td>\n",
       "      <td>25.345111</td>\n",
       "      <td>27.449908</td>\n",
       "      <td>29.64176</td>\n",
       "      <td>30.404935</td>\n",
       "      <td>NaN</td>\n",
       "      <td>NaN</td>\n",
       "    </tr>\n",
       "    <tr>\n",
       "      <th>2</th>\n",
       "      <td>Afghanistan</td>\n",
       "      <td>AFG</td>\n",
       "      <td>Access to electricity, rural (% of rural popul...</td>\n",
       "      <td>EG.ELC.ACCS.RU.ZS</td>\n",
       "      <td>NaN</td>\n",
       "      <td>NaN</td>\n",
       "      <td>NaN</td>\n",
       "      <td>NaN</td>\n",
       "      <td>NaN</td>\n",
       "      <td>NaN</td>\n",
       "      <td>...</td>\n",
       "      <td>60.566135</td>\n",
       "      <td>86.500511</td>\n",
       "      <td>64.573357</td>\n",
       "      <td>97.099358</td>\n",
       "      <td>97.091972</td>\n",
       "      <td>95.586174</td>\n",
       "      <td>97.07563</td>\n",
       "      <td>97.066711</td>\n",
       "      <td>NaN</td>\n",
       "      <td>NaN</td>\n",
       "    </tr>\n",
       "    <tr>\n",
       "      <th>3</th>\n",
       "      <td>Africa Western and Central</td>\n",
       "      <td>AFW</td>\n",
       "      <td>Access to electricity, rural (% of rural popul...</td>\n",
       "      <td>EG.ELC.ACCS.RU.ZS</td>\n",
       "      <td>NaN</td>\n",
       "      <td>NaN</td>\n",
       "      <td>NaN</td>\n",
       "      <td>NaN</td>\n",
       "      <td>NaN</td>\n",
       "      <td>NaN</td>\n",
       "      <td>...</td>\n",
       "      <td>23.294078</td>\n",
       "      <td>22.549825</td>\n",
       "      <td>22.780592</td>\n",
       "      <td>27.380220</td>\n",
       "      <td>NaN</td>\n",
       "      <td>NaN</td>\n",
       "      <td>NaN</td>\n",
       "      <td>25.466795</td>\n",
       "      <td>NaN</td>\n",
       "      <td>NaN</td>\n",
       "    </tr>\n",
       "    <tr>\n",
       "      <th>4</th>\n",
       "      <td>Angola</td>\n",
       "      <td>AGO</td>\n",
       "      <td>Access to electricity, rural (% of rural popul...</td>\n",
       "      <td>EG.ELC.ACCS.RU.ZS</td>\n",
       "      <td>NaN</td>\n",
       "      <td>NaN</td>\n",
       "      <td>NaN</td>\n",
       "      <td>NaN</td>\n",
       "      <td>NaN</td>\n",
       "      <td>NaN</td>\n",
       "      <td>...</td>\n",
       "      <td>NaN</td>\n",
       "      <td>NaN</td>\n",
       "      <td>3.815067</td>\n",
       "      <td>NaN</td>\n",
       "      <td>NaN</td>\n",
       "      <td>7.333445</td>\n",
       "      <td>NaN</td>\n",
       "      <td>NaN</td>\n",
       "      <td>NaN</td>\n",
       "      <td>NaN</td>\n",
       "    </tr>\n",
       "  </tbody>\n",
       "</table>\n",
       "<p>5 rows × 67 columns</p>\n",
       "</div>"
      ],
      "text/plain": [
       "                  Country Name Country Code  \\\n",
       "0                        Aruba          ABW   \n",
       "1  Africa Eastern and Southern          AFE   \n",
       "2                  Afghanistan          AFG   \n",
       "3   Africa Western and Central          AFW   \n",
       "4                       Angola          AGO   \n",
       "\n",
       "                                      Indicator Name     Indicator Code  \\\n",
       "0  Access to electricity, rural (% of rural popul...  EG.ELC.ACCS.RU.ZS   \n",
       "1  Access to electricity, rural (% of rural popul...  EG.ELC.ACCS.RU.ZS   \n",
       "2  Access to electricity, rural (% of rural popul...  EG.ELC.ACCS.RU.ZS   \n",
       "3  Access to electricity, rural (% of rural popul...  EG.ELC.ACCS.RU.ZS   \n",
       "4  Access to electricity, rural (% of rural popul...  EG.ELC.ACCS.RU.ZS   \n",
       "\n",
       "   1960.0  1961.0  1962.0  1963.0  1964.0  1965.0  ...        2013  \\\n",
       "0     NaN     NaN     NaN     NaN     NaN     NaN  ...  100.000000   \n",
       "1     NaN     NaN     NaN     NaN     NaN     NaN  ...   18.663502   \n",
       "2     NaN     NaN     NaN     NaN     NaN     NaN  ...   60.566135   \n",
       "3     NaN     NaN     NaN     NaN     NaN     NaN  ...   23.294078   \n",
       "4     NaN     NaN     NaN     NaN     NaN     NaN  ...         NaN   \n",
       "\n",
       "         2014        2015        2016        2017        2018       2019  \\\n",
       "0  100.000000  100.000000  100.000000  100.000000  100.000000  100.00000   \n",
       "1   17.633986   16.464681   24.531436   25.345111   27.449908   29.64176   \n",
       "2   86.500511   64.573357   97.099358   97.091972   95.586174   97.07563   \n",
       "3   22.549825   22.780592   27.380220         NaN         NaN        NaN   \n",
       "4         NaN    3.815067         NaN         NaN    7.333445        NaN   \n",
       "\n",
       "         2020  2021.0  Unnamed: 66  \n",
       "0  100.000000     NaN          NaN  \n",
       "1   30.404935     NaN          NaN  \n",
       "2   97.066711     NaN          NaN  \n",
       "3   25.466795     NaN          NaN  \n",
       "4         NaN     NaN          NaN  \n",
       "\n",
       "[5 rows x 67 columns]"
      ]
     },
     "execution_count": 10,
     "metadata": {},
     "output_type": "execute_result"
    }
   ],
   "source": [
    "rural.head(5)"
   ]
  },
  {
   "cell_type": "markdown",
   "metadata": {},
   "source": [
    "# Dropping All the null values"
   ]
  },
  {
   "cell_type": "code",
   "execution_count": 11,
   "metadata": {},
   "outputs": [],
   "source": [
    "rural = rural.dropna(axis = \"columns\", how = 'all')\n",
    "urban = urban.dropna(axis = \"columns\", how = 'all')\n",
    "total = total.dropna(axis = \"columns\", how = 'all')\n",
    "nuclear = nuclear.dropna(axis = \"columns\", how = 'all')\n",
    "oil= oil.dropna(axis = \"columns\", how = 'all')\n",
    "renewable = renewable.dropna(axis = \"columns\", how = 'all')\n",
    "losses = losses.dropna(axis = \"columns\", how = 'all')"
   ]
  },
  {
   "cell_type": "markdown",
   "metadata": {},
   "source": [
    "# Saving dataframes into different csv files"
   ]
  },
  {
   "cell_type": "code",
   "execution_count": 12,
   "metadata": {},
   "outputs": [],
   "source": [
    "rural.to_csv('rural.csv',index= False)\n",
    "urban.to_csv('urban.csv',index= False)\n",
    "total.to_csv('total.csv',index= False )\n",
    "nuclear.to_csv('nuclear.csv',index= False)\n",
    "oil.to_csv('oil.csv',index= False)\n",
    "renewable.to_csv('renewable.csv',index= False)\n",
    "losses.to_csv('losses.csv',index= False)"
   ]
  },
  {
   "cell_type": "code",
   "execution_count": null,
   "metadata": {},
   "outputs": [],
   "source": []
  }
 ],
 "metadata": {
  "kernelspec": {
   "display_name": "Python 3",
   "language": "python",
   "name": "python3"
  },
  "language_info": {
   "codemirror_mode": {
    "name": "ipython",
    "version": 3
   },
   "file_extension": ".py",
   "mimetype": "text/x-python",
   "name": "python",
   "nbconvert_exporter": "python",
   "pygments_lexer": "ipython3",
   "version": "3.7.6"
  }
 },
 "nbformat": 4,
 "nbformat_minor": 4
}
